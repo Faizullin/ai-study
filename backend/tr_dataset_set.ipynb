{
 "cells": [
  {
   "cell_type": "code",
   "execution_count": 1,
   "id": "b5897b1c-789e-44cc-a70b-d3d8b7c41f42",
   "metadata": {},
   "outputs": [
    {
     "data": {
      "text/plain": [
       "('C:\\\\Users\\\\osman\\\\Desktop\\\\OSMAN_PROJECTS\\\\ai-study\\\\backend\\\\seeding\\\\ratigns_seed.csv',\n",
       " 'C:\\\\Users\\\\osman\\\\Desktop\\\\OSMAN_PROJECTS\\\\ai-study\\\\backend\\\\seeding\\\\documents_seed.csv')"
      ]
     },
     "execution_count": 1,
     "metadata": {},
     "output_type": "execute_result"
    }
   ],
   "source": [
    "import os, sys\n",
    "import django\n",
    "import pandas as pd\n",
    "\n",
    "\n",
    "PROJ_MISSING_MSG = \"\"\"Set an enviroment variable:\\n\n",
    "`DJANGO_PROJECT=your_project_name`\\n\n",
    "or call:\\n\n",
    "`init_django(your_project_name)`\n",
    "\"\"\"\n",
    "\n",
    "def init_django(project_name=None):\n",
    "    # os.chdir(PWD)\n",
    "    project_name = project_name or os.environ.get('DJANGO_PROJECT') or None\n",
    "    if project_name 
    "        raise Exception(PROJ_MISSING_MSG)\n",
    "    # sys.path.insert(0, os.getenv('PWD'))\n",
    "    os.environ.setdefault('DJANGO_SETTINGS_MODULE', f'{project_name}.settings')\n",
    "    os.environ[\"DJANGO_ALLOW_ASYNC_UNSAFE\"] = \"true\"\n",
    "    import django\n",
    "    django.setup()\n",
    "\n",
    "\n",
    "input_path_cf =   os.path.join(os.path.join(os. getcwd(),'seeding'),'ratigns_seed.csv')\n",
    "input_path_cb =   os.path.join(os.path.join(os. getcwd(),'seeding'),'documents_seed.csv')\n",
    "input_path_cf, input_path_cb"
   ]
  },
  {
   "cell_type": "code",
   "execution_count": 2,
   "id": "ffaf0548-b48f-449f-93ac-ea8a6ac6ac12",
   "metadata": {},
   "outputs": [],
   "source": [
    "init_django(\"backend\")\n",
    "from documents.models import *\n",
    "from accounts.models import *\n",
    "from mlrec.models import *\n",
    "from django.contrib.auth.hashers import make_password"
   ]
  },
  {
   "cell_type": "code",
   "execution_count": 3,
   "id": "a69a20d8-0343-4b29-ae33-2d2c8ff30f13",
   "metadata": {},
   "outputs": [],
   "source": [
    "SEED = 0\n",
    "if SEED:\n",
    "    df_cb = pd.read_csv(input_path_cb)\n",
    "    df_cf = pd.read_csv(input_path_cf)\n",
    "    print(\"df_cf.info(), df_cb.info()\",df_cf.info(), df_cb.info())\n",
    "    \n",
    "    documents_ids = df_cf['document_id'].unique()\n",
    "    tmp_df_cf = df_cf.copy().sort_values(by='document_id')[0:(df_cb['show_id'].size * 3)]\n",
    "    \n",
    "    print(\"tmp_df_cf, df_cf\",tmp_df_cf, df_cf)\n",
    "    user_ids = tmp_df_cf['user_id'].unique()\n",
    "    print(\"user_ids, user_ids.size\",user_ids, user_ids.size)\n",
    "    data = []\n",
    "    for i in range(0,user_ids.size):\n",
    "        idd = user_ids[i]\n",
    "        data.append(User(\n",
    "            id=idd,\n",
    "            username = f\"user{idd}\",\n",
    "            email = f\"user{idd}@example.com\",\n",
    "            password = make_password(f\"user{idd}@password\"),\n",
    "        ))\n",
    "        if i > 100:\n",
    "            break\n",
    "    User.objects.bulk_create(data)\n",
    "    user_ids = User.objects.order_by('id').values_list('id',flat=True)\n",
    "    df_cb['id'] = df_cb.index + 1\n",
    "    filtered_df = df_cf[df_cf['user_id'].isin(user_ids)]\n",
    "    filtered_df = filtered_df[filtered_df['document_id'].isin(df_cb['id'])]\n",
    "    filtered_df, df_cb['id'], user_ids[0],  user_ids[len(user_ids)-1]\n",
    "    filtered_df_cb = df_cb[df_cb['id'].isin(filtered_df['document_id'])]\n",
    "    # filtered_df_cb.index.size, filtered_df['document_id'].size, filtered_df['document_id'].nunique()\n",
    "    print(\"filtered_df_cb, filtered_df_cb['id'].size, filtered_df['document_id'].nunique()\",filtered_df_cb, filtered_df_cb['id'].size, filtered_df['document_id'].nunique())\n",
    "    # filtered_df_cb['id'].min(), filtered_df_cb['id'].max()\n",
    "    # df_cf[df_cf['document_id'].isin(filtered_df_cb['id'])]['document_id'].nunique()\n",
    "    data = []\n",
    "    admin_user = User.objects.first()\n",
    "    for i, value in filtered_df_cb.iterrows():\n",
    "        data.append(Document(\n",
    "            id=value['id'],\n",
    "            title = value['title'],\n",
    "            description = value['description'],\n",
    "            owner = admin_user,\n",
    "        ))\n",
    "    Document.objects.bulk_create(data)\n",
    "    print(\"Document.objects.last().__dict__, filtered_df_cb.iloc[-1],...\",Document.objects.last().__dict__, filtered_df_cb.iloc[-1], filtered_df[filtered_df['document_id'] 
    "    data = []\n",
    "    for i, value in filtered_df.iterrows():\n",
    "        data.append(Rating(\n",
    "            id = i + 1,\n",
    "            document_id = value[\"document_id\"],\n",
    "            value = value[\"rating\"],\n",
    "            user_id =value[\"user_id\"],\n",
    "        ))\n",
    "    \n",
    "    print(\"len(data), data[-1], Rating.objects.all()\",len(data), data[-1], Rating.objects.all())\n",
    "    Rating.objects.bulk_create(data)\n",
    "\n",
    "    from documents.tasks import update_document_ratings\n",
    "    from mlrec.utils import save_cf_pd_dataset, save_cb_pd_dataset\n",
    "\n",
    "    update_document_ratings()\n",
    "    documents = Document.objects.all()\n",
    "    save_cf_pd_dataset(documents)\n",
    "    save_cb_pd_dataset(documents)"
   ]
  },
  {
   "cell_type": "code",
   "execution_count": 4,
   "id": "b562c823-8da5-44bc-876d-e60f4610367a",
   "metadata": {},
   "outputs": [
    {
     "data": {
      "text/plain": [
       "<QuerySet [{'rating_avg': 2.5, 'rating_count': 2}, {'rating_avg': 5.0, 'rating_count': 4}, {'rating_avg': 2.611111111111111, 'rating_count': 18}, {'rating_avg': 4.5, 'rating_count': 2}, {'rating_avg': 3.5, 'rating_count': 2}, {'rating_avg': 3.0, 'rating_count': 9}, {'rating_avg': 4.75, 'rating_count': 4}, {'rating_avg': 3.75, 'rating_count': 4}, {'rating_avg': 4.0, 'rating_count': 2}, {'rating_avg': 3.5, 'rating_count': 4}, {'rating_avg': 3.1739130434782608, 'rating_count': 46}, {'rating_avg': 5.0, 'rating_count': 1}, {'rating_avg': 1.0, 'rating_count': 1}, {'rating_avg': 5.0, 'rating_count': 1}, {'rating_avg': 5.0, 'rating_count': 1}, {'rating_avg': 5.0, 'rating_count': 1}, {'rating_avg': 5.0, 'rating_count': 1}, {'rating_avg': 2.0, 'rating_count': 1}, {'rating_avg': 4.0, 'rating_count': 1}, {'rating_avg': 3.0, 'rating_count': 1}, '...(remaining elements truncated)...']>"
      ]
     },
     "execution_count": 4,
     "metadata": {},
     "output_type": "execute_result"
    }
   ],
   "source": [
    "# from documents.tasks import update_document_ratings\n",
    "# a = Document.objects.values('rating_avg','rating_count')\n",
    "# update_document_ratings()\n",
    "Document.objects.values('rating_avg','rating_count')"
   ]
  },
  {
   "cell_type": "code",
   "execution_count": 5,
   "id": "aa5ef194-bb7d-4f52-b921-61203910122d",
   "metadata": {},
   "outputs": [
    {
     "data": {
      "text/plain": [
       "({'_state': <django.db.models.base.ModelState at 0x1b38047ad60>,\n",
       "  'id': 3,\n",
       "  'created_at': datetime.datetime(2024, 3, 3, 15, 50, 15, 121993),\n",
       "  'updated_at': datetime.datetime(2024, 3, 3, 15, 50, 15, 145010),\n",
       "  'status': 'planned',\n",
       "  'train_type': 'collaborative',\n",
       "  'file': 'C:\\\\Users\\\\osman\\\\Desktop\\\\OSMAN_PROJECTS\\\\ai-study\\\\backend\\\\mlrec\\\\models_data\\\\3_collaborative_dataset.csv'},\n",
       " {'_state': <django.db.models.base.ModelState at 0x1b3804eb460>,\n",
       "  'id': 15,\n",
       "  'created_at': datetime.datetime(2024, 3, 3, 16, 13, 36, 211915),\n",
       "  'updated_at': datetime.datetime(2024, 3, 3, 16, 13, 36, 358985),\n",
       "  'status': 'completed',\n",
       "  'train_type': 'collaborative',\n",
       "  'file': 'C:\\\\Users\\\\osman\\\\Desktop\\\\OSMAN_PROJECTS\\\\ai-study\\\\backend\\\\mlrec\\\\models_data\\\\cf-model.pkl',\n",
       "  'description': '{\"RMSE\": 1.0541041715788293, \"MAE\": 0.928147624094497}',\n",
       "  'last_user_action_id': None})"
      ]
     },
     "execution_count": 5,
     "metadata": {},
     "output_type": "execute_result"
    }
   ],
   "source": [
    "from mlrec.tasks import *\n",
    "from mlrec.utils import *\n",
    "# train_model_task.delay()\n",
    "last_train_export = Export.objects.filter(\n",
    "        train_type=TrainType.COLLABORATIVE).last()\n",
    "last_train_model = TrainModelData.objects.filter(\n",
    "        train_type=TrainType.COLLABORATIVE).last()\n",
    "last_train_export.__dict__, last_train_model.__dict__"
   ]
  },
  {
   "cell_type": "code",
   "execution_count": 6,
   "id": "e6691269-512a-44e1-9ff7-2e8109a5b486",
   "metadata": {},
   "outputs": [
    {
     "name": "stdout",
     "output_type": "stream",
     "text": [
      "<QuerySet [198869, 194261, 193010, 192128, 192004, 190369, 189657, 185814, 184276, 182219]> <QuerySet [2, 37, 417, 718, 756]> [{'_state': <django.db.models.base.ModelState object at 0x000001B380501760>, 'id': 2, 'created_at': datetime.datetime(2024, 3, 3, 15, 39, 26, 929533), 'updated_at': datetime.datetime(2024, 3, 3, 15, 39, 26, 929533), 'status': 'draft', 'type': 'document', 'title': 'Blood & Water', 'owner_id': 1, 'featured_image_id': None, 'description': 'After crossing paths at a party, a Cape Town teen sets out to prove whether a private-school swimming star is her sister who was abducted at birth.', 'content': '', 'course_id': None, 'rating_avg': 5.0, 'rating_count': 4}, {'_state': <django.db.models.base.ModelState object at 0x000001B38050BD30>, 'id': 37, 'created_at': datetime.datetime(2024, 3, 3, 15, 39, 26, 929533), 'updated_at': datetime.datetime(2024, 3, 3, 15, 39, 26, 929533), 'status': 'draft', 'type': 'document', 'title': 'The Stronghold', 'owner_id': 1, 'featured_image_id': None, 'description': 'Tired of the small-time grind, three Marseille cops get a chance to bust a major drug network. But lines blur when a key informant makes a big ask.', 'content': '', 'course_id': None, 'rating_avg': 5.0, 'rating_count': 1}, {'_state': <django.db.models.base.ModelState object at 0x000001B38050BD60>, 'id': 417, 'created_at': datetime.datetime(2024, 3, 3, 15, 39, 26, 929533), 'updated_at': datetime.datetime(2024, 3, 3, 15, 39, 26, 929533), 'status': 'draft', 'type': 'document', 'title': 'Chhota Bheem aur Krishna vs Zimbara', 'owner_id': 1, 'featured_image_id': None, 'description': 'A demon of darkness is plotting world domination — but when Bheem and Krishna catch wind of his plans, they’ll stop at nothing to destroy him.', 'content': '', 'course_id': None, 'rating_avg': 5.0, 'rating_count': 1}, {'_state': <django.db.models.base.ModelState object at 0x000001B38050BDC0>, 'id': 718, 'created_at': datetime.datetime(2024, 3, 3, 15, 39, 26, 929533), 'updated_at': datetime.datetime(2024, 3, 3, 15, 39, 26, 929533), 'status': 'draft', 'type': 'document', 'title': 'Headspace: Unwind Your Mind', 'owner_id': 1, 'featured_image_id': None, 'description': 'Do you want to relax, meditate or sleep deeply? Personalize the experience according to your mood or mindset with this Headspace interactive special.', 'content': '', 'course_id': None, 'rating_avg': 5.0, 'rating_count': 1}, {'_state': <django.db.models.base.ModelState object at 0x000001B38050BE20>, 'id': 756, 'created_at': datetime.datetime(2024, 3, 3, 15, 39, 26, 929533), 'updated_at': datetime.datetime(2024, 3, 3, 15, 39, 26, 929533), 'status': 'draft', 'type': 'document', 'title': 'Kitty Love: An Homage to Cats', 'owner_id': 1, 'featured_image_id': None, 'description': 'Famous feline Abatutu presents this charming celebration of cats, showcasing their finest and friskiest moments with a collection of home videos.', 'content': '', 'course_id': None, 'rating_avg': 5.0, 'rating_count': 1}, {'_state': <django.db.models.base.ModelState object at 0x000001B38050BE80>, 'id': 778, 'created_at': datetime.datetime(2024, 3, 3, 15, 39, 26, 929533), 'updated_at': datetime.datetime(2024, 3, 3, 15, 39, 26, 929533), 'status': 'draft', 'type': 'document', 'title': 'And Then Came Lola', 'owner_id': 1, 'featured_image_id': None, 'description': 'In this lesbian-themed nod to the film Run Lola Run, a photographer races against the clock to make it to an important meeting on time.', 'content': '', 'course_id': None, 'rating_avg': 5.0, 'rating_count': 1}, {'_state': <django.db.models.base.ModelState object at 0x000001B38050BEE0>, 'id': 1397, 'created_at': datetime.datetime(2024, 3, 3, 15, 39, 26, 929533), 'updated_at': datetime.datetime(2024, 3, 3, 15, 39, 26, 929533), 'status': 'draft', 'type': 'document', 'title': 'Homefront', 'owner_id': 1, 'featured_image_id': None, 'description': 'When an ex-DEA agent is widowed, he moves with his young daughter to a small town, but his quiet life is shattered by a meth-making drug trafficker.', 'content': '', 'course_id': None, 'rating_avg': 5.0, 'rating_count': 1}, {'_state': <django.db.models.base.ModelState object at 0x000001B38050BF40>, 'id': 1503, 'created_at': datetime.datetime(2024, 3, 3, 15, 39, 26, 929533), 'updated_at': datetime.datetime(2024, 3, 3, 15, 39, 26, 929533), 'status': 'draft', 'type': 'document', 'title': 'London Hughes: To Catch a D*ck', 'owner_id': 1, 'featured_image_id': None, 'description': 'Bawdy comedian and television presenter London Hughes revisits her past in this acclaimed breakout special filled with unfiltered tales and wild stories.', 'content': '', 'course_id': None, 'rating_avg': 5.0, 'rating_count': 1}, {'_state': <django.db.models.base.ModelState object at 0x000001B38050BFA0>, 'id': 2247, 'created_at': datetime.datetime(2024, 3, 3, 15, 39, 26, 943576), 'updated_at': datetime.datetime(2024, 3, 3, 15, 39, 26, 943576), 'status': 'draft', 'type': 'document', 'title': 'Down to Earth with Zac Efron', 'owner_id': 1, 'featured_image_id': None, 'description': 'Actor Zac Efron journeys around the world with wellness expert Darin Olien in a travel show that explores healthy, sustainable ways to live.', 'content': '', 'course_id': None, 'rating_avg': 5.0, 'rating_count': 1}, {'_state': <django.db.models.base.ModelState object at 0x000001B380521040>, 'id': 3342, 'created_at': datetime.datetime(2024, 3, 3, 15, 39, 26, 943576), 'updated_at': datetime.datetime(2024, 3, 3, 15, 39, 26, 943576), 'status': 'draft', 'type': 'document', 'title': 'Mobile Suit Gundam: Iron-Blooded Orphans', 'owner_id': 1, 'featured_image_id': None, 'description': 'On a terraformed post-disaster Mars, a group of child security agents rebel against the adults who betrayed them and the oppressive Earth government.', 'content': '', 'course_id': None, 'rating_avg': 5.0, 'rating_count': 1}, {'_state': <django.db.models.base.ModelState object at 0x000001B3805210A0>, 'id': 3487, 'created_at': datetime.datetime(2024, 3, 3, 15, 39, 26, 943576), 'updated_at': datetime.datetime(2024, 3, 3, 15, 39, 26, 943576), 'status': 'draft', 'type': 'document', 'title': 'Malaal', 'owner_id': 1, 'featured_image_id': None, 'description': 'Class divides become thorns in the budding romance between the crony of a nativist Mumbai politician and the new, North Indian resident of his chawl.', 'content': '', 'course_id': None, 'rating_avg': 5.0, 'rating_count': 1}, {'_state': <django.db.models.base.ModelState object at 0x000001B380521100>, 'id': 3845, 'created_at': datetime.datetime(2024, 3, 3, 15, 39, 26, 945295), 'updated_at': datetime.datetime(2024, 3, 3, 15, 39, 26, 945295), 'status': 'draft', 'type': 'document', 'title': 'Bibik-Bibikku', 'owner_id': 1, 'featured_image_id': None, 'description': 'When a busy mother and father realize they need help with their two young children, they hire a series of maids, often with humorous results.', 'content': '', 'course_id': None, 'rating_avg': 5.0, 'rating_count': 1}, {'_state': <django.db.models.base.ModelState object at 0x000001B380521160>, 'id': 3952, 'created_at': datetime.datetime(2024, 3, 3, 15, 39, 26, 945295), 'updated_at': datetime.datetime(2024, 3, 3, 15, 39, 26, 945295), 'status': 'draft', 'type': 'document', 'title': 'Jagat', 'owner_id': 1, 'featured_image_id': None, 'description': 'In early 1990s Malaysia, a Tamilian boy faces pressure from his immigrant father to focus on school but is drawn to his uncles’ lives of crime.', 'content': '', 'course_id': None, 'rating_avg': 5.0, 'rating_count': 1}, {'_state': <django.db.models.base.ModelState object at 0x000001B3805211C0>, 'id': 4857, 'created_at': datetime.datetime(2024, 3, 3, 15, 39, 26, 945295), 'updated_at': datetime.datetime(2024, 3, 3, 15, 39, 26, 945295), 'status': 'draft', 'type': 'document', 'title': 'Dance & Sing with True', 'owner_id': 1, 'featured_image_id': None, 'description': 'True and her friends are making music – and they want you to dance and sing along. So cut loose, silly goose! These fun beats are totally sweet.', 'content': '', 'course_id': None, 'rating_avg': 5.0, 'rating_count': 1}, {'_state': <django.db.models.base.ModelState object at 0x000001B380521220>, 'id': 4877, 'created_at': datetime.datetime(2024, 3, 3, 15, 39, 26, 945295), 'updated_at': datetime.datetime(2024, 3, 3, 15, 39, 26, 945295), 'status': 'draft', 'type': 'document', 'title': 'Dany Boon: Des Hauts De France', 'owner_id': 1, 'featured_image_id': None, 'description': 'In an eclectic one-man show, French superstar Dany Boon reflects on his homeland, his first comedy gig and the challenges of parenting hostile teens.', 'content': '', 'course_id': None, 'rating_avg': 5.0, 'rating_count': 1}, {'_state': <django.db.models.base.ModelState object at 0x000001B380521280>, 'id': 5139, 'created_at': datetime.datetime(2024, 3, 3, 15, 39, 26, 945295), 'updated_at': datetime.datetime(2024, 3, 3, 15, 39, 26, 945295), 'status': 'draft', 'type': 'document', 'title': 'All Hail King Julien', 'owner_id': 1, 'featured_image_id': None, 'description': \"In this Emmy winner for Outstanding Children's Animated Program, Madagascar booty-shaker King Julien takes on the jungle’s craziest adventures.\", 'content': '', 'course_id': None, 'rating_avg': 5.0, 'rating_count': 1}, {'_state': <django.db.models.base.ModelState object at 0x000001B3805212E0>, 'id': 5472, 'created_at': datetime.datetime(2024, 3, 3, 15, 39, 26, 945295), 'updated_at': datetime.datetime(2024, 3, 3, 15, 39, 26, 945295), 'status': 'draft', 'type': 'document', 'title': 'Joshua: Teenager vs. Superpower', 'owner_id': 1, 'featured_image_id': None, 'description': 'Mobilized by teenage activist Joshua Wong, young citizens of Hong Kong take to the streets in a bid to preserve their history of autonomy from China.', 'content': '', 'course_id': None, 'rating_avg': 5.0, 'rating_count': 1}, {'_state': <django.db.models.base.ModelState object at 0x000001B380521340>, 'id': 6248, 'created_at': datetime.datetime(2024, 3, 3, 15, 39, 26, 945295), 'updated_at': datetime.datetime(2024, 3, 3, 15, 39, 26, 945295), 'status': 'draft', 'type': 'document', 'title': 'BASEketball', 'owner_id': 1, 'featured_image_id': None, 'description': \"When two slackers' made-up sport, BASEketball, becomes a national craze, they hope to cash in on the basketball/baseball hybrid's popularity.\", 'content': '', 'course_id': None, 'rating_avg': 5.0, 'rating_count': 1}, {'_state': <django.db.models.base.ModelState object at 0x000001B3805213A0>, 'id': 7398, 'created_at': datetime.datetime(2024, 3, 3, 15, 39, 26, 945295), 'updated_at': datetime.datetime(2024, 3, 3, 15, 39, 26, 945295), 'status': 'draft', 'type': 'document', 'title': 'Manhattan Romance', 'owner_id': 1, 'featured_image_id': None, 'description': 'A filmmaker working on a documentary about love in modern Manhattan becomes personally entangled in the romantic lives of his subjects.', 'content': '', 'course_id': None, 'rating_avg': 5.0, 'rating_count': 1}, {'_state': <django.db.models.base.ModelState object at 0x000001B380521400>, 'id': 7605, 'created_at': datetime.datetime(2024, 3, 3, 15, 39, 26, 945295), 'updated_at': datetime.datetime(2024, 3, 3, 15, 39, 26, 945295), 'status': 'draft', 'type': 'document', 'title': 'NOVA: Death Dive to Saturn', 'owner_id': 1, 'featured_image_id': None, 'description': 'After decades of amazing discoveries, spacecraft Cassini embarks on its final – and most daring – mission: a dive below Saturn’s rings.', 'content': '', 'course_id': None, 'rating_avg': 5.0, 'rating_count': 1}, {'_state': <django.db.models.base.ModelState object at 0x000001B380521460>, 'id': 8316, 'created_at': datetime.datetime(2024, 3, 3, 15, 39, 26, 945295), 'updated_at': datetime.datetime(2024, 3, 3, 15, 39, 26, 945295), 'status': 'draft', 'type': 'document', 'title': 'The Furchester Hotel', 'owner_id': 1, 'featured_image_id': None, 'description': 'Elmo hops across the pond to help his extended monster family solve problems at their \"almost\" world-class establishment, the Furchester Hotel.', 'content': '', 'course_id': None, 'rating_avg': 5.0, 'rating_count': 1}, {'_state': <django.db.models.base.ModelState object at 0x000001B3805214C0>, 'id': 8326, 'created_at': datetime.datetime(2024, 3, 3, 15, 39, 26, 945295), 'updated_at': datetime.datetime(2024, 3, 3, 15, 39, 26, 945295), 'status': 'draft', 'type': 'document', 'title': 'The Goods: Live Hard, Sell Hard', 'owner_id': 1, 'featured_image_id': None, 'description': 'Hired to rescue a flagging car dealership during a major sale, a fast-talking closer spends his days on the lot and his nights at local strip clubs.', 'content': '', 'course_id': None, 'rating_avg': 5.0, 'rating_count': 1}, {'_state': <django.db.models.base.ModelState object at 0x000001B380521520>, 'id': 8, 'created_at': datetime.datetime(2024, 3, 3, 15, 39, 26, 929533), 'updated_at': datetime.datetime(2024, 3, 3, 15, 39, 26, 929533), 'status': 'draft', 'type': 'document', 'title': 'Sankofa', 'owner_id': 1, 'featured_image_id': None, 'description': 'On a photo shoot in Ghana, an American model slips back in time, becomes enslaved on a plantation and bears witness to the agony of her ancestral past.', 'content': '', 'course_id': None, 'rating_avg': 4.75, 'rating_count': 4}, {'_state': <django.db.models.base.ModelState object at 0x000001B380521580>, 'id': 4, 'created_at': datetime.datetime(2024, 3, 3, 15, 39, 26, 929533), 'updated_at': datetime.datetime(2024, 3, 3, 15, 39, 26, 929533), 'status': 'draft', 'type': 'document', 'title': 'Jailbirds New Orleans', 'owner_id': 1, 'featured_image_id': None, 'description': 'Feuds, flirtations and toilet talk go down among the incarcerated women at the Orleans Justice Center in New Orleans on this gritty reality series.', 'content': '', 'course_id': None, 'rating_avg': 4.5, 'rating_count': 2}, {'_state': <django.db.models.base.ModelState object at 0x000001B3805215E0>, 'id': 10, 'created_at': datetime.datetime(2024, 3, 3, 15, 39, 26, 929533), 'updated_at': datetime.datetime(2024, 3, 3, 15, 39, 26, 929533), 'status': 'draft', 'type': 'document', 'title': 'The Starling', 'owner_id': 1, 'featured_image_id': None, 'description': \"A woman adjusting to life after a loss contends with a feisty bird that's taken over her garden — and a husband who's struggling to find a way forward.\", 'content': '', 'course_id': None, 'rating_avg': 4.0, 'rating_count': 2}, {'_state': <django.db.models.base.ModelState object at 0x000001B380521640>, 'id': 1027, 'created_at': datetime.datetime(2024, 3, 3, 15, 39, 26, 929533), 'updated_at': datetime.datetime(2024, 3, 3, 15, 39, 26, 929533), 'status': 'draft', 'type': 'document', 'title': 'Barbie & Chelsea: The Lost Birthday', 'owner_id': 1, 'featured_image_id': None, 'description': 'When Barbie’s sister Chelsea thinks her birthday has been skipped, she hunts for a magic gem on a jungle island that will grant her wish to get it back.', 'content': '', 'course_id': None, 'rating_avg': 4.0, 'rating_count': 1}, {'_state': <django.db.models.base.ModelState object at 0x000001B3805216A0>, 'id': 1515, 'created_at': datetime.datetime(2024, 3, 3, 15, 39, 26, 929533), 'updated_at': datetime.datetime(2024, 3, 3, 15, 39, 26, 929533), 'status': 'draft', 'type': 'document', 'title': 'Diamond City', 'owner_id': 1, 'featured_image_id': None, 'description': \"A prominent prosecuting attorney must defend her innocence — and her life — when she's set up and sent to prison as she investigates a conspiracy.\", 'content': '', 'course_id': None, 'rating_avg': 4.0, 'rating_count': 1}, {'_state': <django.db.models.base.ModelState object at 0x000001B380521700>, 'id': 1570, 'created_at': datetime.datetime(2024, 3, 3, 15, 39, 26, 929533), 'updated_at': datetime.datetime(2024, 3, 3, 15, 39, 26, 929533), 'status': 'draft', 'type': 'document', 'title': 'Masameer Classics', 'owner_id': 1, 'featured_image_id': None, 'description': 'Through dark comedy and eccentric characters, this web series offers a humorous view of the changes and cultural shifts in Saudi Arabia from 2011-2019.', 'content': '', 'course_id': None, 'rating_avg': 4.0, 'rating_count': 1}, {'_state': <django.db.models.base.ModelState object at 0x000001B380521760>, 'id': 3381, 'created_at': datetime.datetime(2024, 3, 3, 15, 39, 26, 943576), 'updated_at': datetime.datetime(2024, 3, 3, 15, 39, 26, 943576), 'status': 'draft', 'type': 'document', 'title': 'The Awakening of Motti Wolkenbruch', 'owner_id': 1, 'featured_image_id': None, 'description': 'Pressured to marry a nice Orthodox Jewish woman, Motti is thrown for a loop when he falls for classmate Laura, who his mother will never approve of.', 'content': '', 'course_id': None, 'rating_avg': 4.0, 'rating_count': 1}, {'_state': <django.db.models.base.ModelState object at 0x000001B3805217C0>, 'id': 3522, 'created_at': datetime.datetime(2024, 3, 3, 15, 39, 26, 943576), 'updated_at': datetime.datetime(2024, 3, 3, 15, 39, 26, 945295), 'status': 'draft', 'type': 'document', 'title': 'Marianne', 'owner_id': 1, 'featured_image_id': None, 'description': 'Lured back to her hometown, a famous horror writer discovers that the evil spirit who plagues her dreams is now wreaking havoc in the real world.', 'content': '', 'course_id': None, 'rating_avg': 4.0, 'rating_count': 1}, {'_state': <django.db.models.base.ModelState object at 0x000001B380521820>, 'id': 6096, 'created_at': datetime.datetime(2024, 3, 3, 15, 39, 26, 945295), 'updated_at': datetime.datetime(2024, 3, 3, 15, 39, 26, 945295), 'status': 'draft', 'type': 'document', 'title': 'After Porn Ends', 'owner_id': 1, 'featured_image_id': None, 'description': 'This documentary explores the careers of some of porn\\'s top stars and examines their adjustment to \"normal\" society after leaving adult entertainment.', 'content': '', 'course_id': None, 'rating_avg': 4.0, 'rating_count': 1}, {'_state': <django.db.models.base.ModelState object at 0x000001B380521880>, 'id': 9, 'created_at': datetime.datetime(2024, 3, 3, 15, 39, 26, 929533), 'updated_at': datetime.datetime(2024, 3, 3, 15, 39, 26, 929533), 'status': 'draft', 'type': 'document', 'title': 'The Great British Baking Show', 'owner_id': 1, 'featured_image_id': None, 'description': \"A talented batch of amateur bakers face off in a 10-week competition, whipping up their best dishes in the hopes of being named the U.K.'s best.\", 'content': '', 'course_id': None, 'rating_avg': 3.75, 'rating_count': 4}, {'_state': <django.db.models.base.ModelState object at 0x000001B3805218E0>, 'id': 6, 'created_at': datetime.datetime(2024, 3, 3, 15, 39, 26, 929533), 'updated_at': datetime.datetime(2024, 3, 3, 15, 39, 26, 929533), 'status': 'draft', 'type': 'document', 'title': 'Midnight Mass', 'owner_id': 1, 'featured_image_id': None, 'description': 'The arrival of a charismatic young priest brings glorious miracles, ominous mysteries and renewed religious fervor to a dying town desperate to believe.', 'content': '', 'course_id': None, 'rating_avg': 3.5, 'rating_count': 2}, {'_state': <django.db.models.base.ModelState object at 0x000001B380521940>, 'id': 11, 'created_at': datetime.datetime(2024, 3, 3, 15, 39, 26, 929533), 'updated_at': datetime.datetime(2024, 3, 3, 15, 39, 26, 929533), 'status': 'draft', 'type': 'document', 'title': 'Vendetta: Truth, Lies and The Mafia', 'owner_id': 1, 'featured_image_id': None, 'description': 'Sicily boasts a bold \"Anti-Mafia\" coalition. But what happens when those trying to bring down organized crime are accused of being criminals themselves?', 'content': '', 'course_id': None, 'rating_avg': 3.5, 'rating_count': 4}, {'_state': <django.db.models.base.ModelState object at 0x000001B3805219A0>, 'id': 12, 'created_at': datetime.datetime(2024, 3, 3, 15, 39, 26, 929533), 'updated_at': datetime.datetime(2024, 3, 3, 15, 39, 26, 929533), 'status': 'draft', 'type': 'document', 'title': 'Bangkok Breaking', 'owner_id': 1, 'featured_image_id': None, 'description': 'Struggling to earn a living in Bangkok, a man joins an emergency rescue service and realizes he must unravel a citywide conspiracy.', 'content': '', 'course_id': None, 'rating_avg': 3.1739130434782608, 'rating_count': 46}, {'_state': <django.db.models.base.ModelState object at 0x000001B380521A00>, 'id': 7, 'created_at': datetime.datetime(2024, 3, 3, 15, 39, 26, 929533), 'updated_at': datetime.datetime(2024, 3, 3, 15, 39, 26, 929533), 'status': 'draft', 'type': 'document', 'title': 'My Little Pony: A New Generation', 'owner_id': 1, 'featured_image_id': None, 'description': \"Equestria's divided. But a bright-eyed hero believes Earth Ponies, Pegasi and Unicorns should be pals — and, hoof to heart, she’s determined to prove it.\", 'content': '', 'course_id': None, 'rating_avg': 3.0, 'rating_count': 9}, {'_state': <django.db.models.base.ModelState object at 0x000001B380521A60>, 'id': 1194, 'created_at': datetime.datetime(2024, 3, 3, 15, 39, 26, 929533), 'updated_at': datetime.datetime(2024, 3, 3, 15, 39, 26, 929533), 'status': 'draft', 'type': 'document', 'title': \"Wave of Cinema: 90's Generation\", 'owner_id': 1, 'featured_image_id': None, 'description': 'Walk down memory lane and experience the soundtrack to beloved film \"Generasi 90an: Melankolia\" through nostalgic performances.', 'content': '', 'course_id': None, 'rating_avg': 3.0, 'rating_count': 1}, {'_state': <django.db.models.base.ModelState object at 0x000001B380521AC0>, 'id': 1924, 'created_at': datetime.datetime(2024, 3, 3, 15, 39, 26, 943576), 'updated_at': datetime.datetime(2024, 3, 3, 15, 39, 26, 943576), 'status': 'draft', 'type': 'document', 'title': 'The Unicorn', 'owner_id': 1, 'featured_image_id': None, 'description': 'A widowed father of two girls navigates the world of dating, surprised to learn that many women consider him a hot commodity.', 'content': '', 'course_id': None, 'rating_avg': 3.0, 'rating_count': 1}, {'_state': <django.db.models.base.ModelState object at 0x000001B380521B20>, 'id': 1955, 'created_at': datetime.datetime(2024, 3, 3, 15, 39, 26, 943576), 'updated_at': datetime.datetime(2024, 3, 3, 15, 39, 26, 943576), 'status': 'draft', 'type': 'document', 'title': 'Sneakerheads', 'owner_id': 1, 'featured_image_id': None, 'description': 'Family man Devin falls back into his sneaker obsession after his pal Bobby talks him into a wheeling-dealing scheme to score a mythical pair of kicks.', 'content': '', 'course_id': None, 'rating_avg': 3.0, 'rating_count': 1}, {'_state': <django.db.models.base.ModelState object at 0x000001B380521B80>, 'id': 3203, 'created_at': datetime.datetime(2024, 3, 3, 15, 39, 26, 943576), 'updated_at': datetime.datetime(2024, 3, 3, 15, 39, 26, 943576), 'status': 'draft', 'type': 'document', 'title': 'Wandering Stars', 'owner_id': 1, 'featured_image_id': None, 'description': 'Navigating creative pressures and personal upsets, French rapper\\xa0Nekfeu sets out on a global quest for musical inspiration in this documentary.', 'content': '', 'course_id': None, 'rating_avg': 3.0, 'rating_count': 1}, {'_state': <django.db.models.base.ModelState object at 0x000001B380521BE0>, 'id': 4001, 'created_at': datetime.datetime(2024, 3, 3, 15, 39, 26, 945295), 'updated_at': datetime.datetime(2024, 3, 3, 15, 39, 26, 945295), 'status': 'draft', 'type': 'document', 'title': '5 Flights Up', 'owner_id': 1, 'featured_image_id': None, 'description': 'A couple finds unexpected drama when, after 40 years of living in the same Brooklyn walk-up, they attempt to sell their apartment and buy a new one.', 'content': '', 'course_id': None, 'rating_avg': 3.0, 'rating_count': 1}, {'_state': <django.db.models.base.ModelState object at 0x000001B380521C40>, 'id': 4652, 'created_at': datetime.datetime(2024, 3, 3, 15, 39, 26, 945295), 'updated_at': datetime.datetime(2024, 3, 3, 15, 39, 26, 945295), 'status': 'draft', 'type': 'document', 'title': 'Transformers Prime', 'owner_id': 1, 'featured_image_id': None, 'description': 'With the help of three human allies, the Autobots once again protect Earth from the onslaught of the Decepticons and their leader, Megatron.', 'content': '', 'course_id': None, 'rating_avg': 3.0, 'rating_count': 1}, {'_state': <django.db.models.base.ModelState object at 0x000001B380521CA0>, 'id': 4718, 'created_at': datetime.datetime(2024, 3, 3, 15, 39, 26, 945295), 'updated_at': datetime.datetime(2024, 3, 3, 15, 39, 26, 945295), 'status': 'draft', 'type': 'document', 'title': 'Dinotrux Supercharged', 'owner_id': 1, 'featured_image_id': None, 'description': 'Amped up with powers that make them faster, stronger and more agile than ever, the Dinotrux are back to face new challenges and meet new friends.', 'content': '', 'course_id': None, 'rating_avg': 3.0, 'rating_count': 1}, {'_state': <django.db.models.base.ModelState object at 0x000001B380521D00>, 'id': 5282, 'created_at': datetime.datetime(2024, 3, 3, 15, 39, 26, 945295), 'updated_at': datetime.datetime(2024, 3, 3, 15, 39, 26, 945295), 'status': 'draft', 'type': 'document', 'title': 'Joaquín Reyes: Una y no más', 'owner_id': 1, 'featured_image_id': None, 'description': 'Comedian and celebrity impersonator Joaquín Reyes decides to be his zesty self for a night of stories about buses, bathroom habits, royalty and more.', 'content': '', 'course_id': None, 'rating_avg': 3.0, 'rating_count': 1}, {'_state': <django.db.models.base.ModelState object at 0x000001B380521D60>, 'id': 5328, 'created_at': datetime.datetime(2024, 3, 3, 15, 39, 26, 945295), 'updated_at': datetime.datetime(2024, 3, 3, 15, 39, 26, 945295), 'status': 'draft', 'type': 'document', 'title': 'Million Yen Women', 'owner_id': 1, 'featured_image_id': None, 'description': 'Five beautiful but mysterious women move in with unsuccessful novelist Shin, who manages their odd household in exchange for a tidy monthly sum.', 'content': '', 'course_id': None, 'rating_avg': 3.0, 'rating_count': 1}, {'_state': <django.db.models.base.ModelState object at 0x000001B380521DC0>, 'id': 3, 'created_at': datetime.datetime(2024, 3, 3, 15, 39, 26, 929533), 'updated_at': datetime.datetime(2024, 3, 3, 15, 39, 26, 929533), 'status': 'draft', 'type': 'document', 'title': 'Ganglands', 'owner_id': 1, 'featured_image_id': None, 'description': 'To protect his family from a powerful drug lord, skilled thief Mehdi and his expert team of robbers are pulled into a violent and deadly turf war.', 'content': '', 'course_id': None, 'rating_avg': 2.611111111111111, 'rating_count': 18}, {'_state': <django.db.models.base.ModelState object at 0x000001B380521E20>, 'id': 1, 'created_at': datetime.datetime(2024, 3, 3, 15, 39, 26, 929533), 'updated_at': datetime.datetime(2024, 3, 3, 15, 39, 26, 929533), 'status': 'draft', 'type': 'document', 'title': 'Dick Johnson Is Dead', 'owner_id': 1, 'featured_image_id': None, 'description': 'As her father nears the end of his life, filmmaker Kirsten Johnson stages his death in inventive and comical ways to help them both face the inevitable.', 'content': '', 'course_id': None, 'rating_avg': 2.5, 'rating_count': 2}, {'_state': <django.db.models.base.ModelState object at 0x000001B380521E80>, 'id': 834, 'created_at': datetime.datetime(2024, 3, 3, 15, 39, 26, 929533), 'updated_at': datetime.datetime(2024, 3, 3, 15, 39, 26, 929533), 'status': 'draft', 'type': 'document', 'title': 'Black Space', 'owner_id': 1, 'featured_image_id': None, 'description': 'A rogue detective with unorthodox means leads an investigation into a massacre committed by unicorn mask-wearing assassins at an Israeli high school.', 'content': '', 'course_id': None, 'rating_avg': 2.0, 'rating_count': 1}, {'_state': <django.db.models.base.ModelState object at 0x000001B380521EE0>, 'id': 1815, 'created_at': datetime.datetime(2024, 3, 3, 15, 39, 26, 929533), 'updated_at': datetime.datetime(2024, 3, 3, 15, 39, 26, 943576), 'status': 'draft', 'type': 'document', 'title': 'Rebecca', 'owner_id': 1, 'featured_image_id': None, 'description': \"A young newlywed moves to her husband's imposing estate, where she must contend with his sinister housekeeper and the haunting shadow of his late wife.\", 'content': '', 'course_id': None, 'rating_avg': 2.0, 'rating_count': 1}, {'_state': <django.db.models.base.ModelState object at 0x000001B380521F40>, 'id': 2236, 'created_at': datetime.datetime(2024, 3, 3, 15, 39, 26, 943576), 'updated_at': datetime.datetime(2024, 3, 3, 15, 39, 26, 943576), 'status': 'draft', 'type': 'document', 'title': 'Dark Desire', 'owner_id': 1, 'featured_image_id': None, 'description': 'Married Alma spends a fateful weekend away from home that ignites passion, ends in tragedy and leads her to question the truth about those close to her.', 'content': '', 'course_id': None, 'rating_avg': 2.0, 'rating_count': 1}, {'_state': <django.db.models.base.ModelState object at 0x000001B380521FA0>, 'id': 6139, 'created_at': datetime.datetime(2024, 3, 3, 15, 39, 26, 945295), 'updated_at': datetime.datetime(2024, 3, 3, 15, 39, 26, 945295), 'status': 'draft', 'type': 'document', 'title': 'American Experience: Ruby Ridge', 'owner_id': 1, 'featured_image_id': None, 'description': 'A botched attempt to arrest a white supremacist in Idaho results in a gun battle, a standoff and three deaths that galvanize public opinion in 1992.', 'content': '', 'course_id': None, 'rating_avg': 2.0, 'rating_count': 1}, {'_state': <django.db.models.base.ModelState object at 0x000001B380528040>, 'id': 6930, 'created_at': datetime.datetime(2024, 3, 3, 15, 39, 26, 945295), 'updated_at': datetime.datetime(2024, 3, 3, 15, 39, 26, 945295), 'status': 'draft', 'type': 'document', 'title': 'Harold and Lillian: A Hollywood Love Story', 'owner_id': 1, 'featured_image_id': None, 'description': \"Storyboard artist Harold Michelson and his film researcher wife, Lillian, recall the influence they had on 60 years of Hollywood's biggest hits.\", 'content': '', 'course_id': None, 'rating_avg': 2.0, 'rating_count': 1}, {'_state': <django.db.models.base.ModelState object at 0x000001B3805280A0>, 'id': 2809, 'created_at': datetime.datetime(2024, 3, 3, 15, 39, 26, 943576), 'updated_at': datetime.datetime(2024, 3, 3, 15, 39, 26, 943576), 'status': 'draft', 'type': 'document', 'title': 'We Speak Dance', 'owner_id': 1, 'featured_image_id': None, 'description': 'Trained dancer Vandana Hart travels the world to learn traditional and urban dance styles from the local experts who know them best.', 'content': '', 'course_id': None, 'rating_avg': 1.5, 'rating_count': 2}, {'_state': <django.db.models.base.ModelState object at 0x000001B380528100>, 'id': 316, 'created_at': datetime.datetime(2024, 3, 3, 15, 39, 26, 929533), 'updated_at': datetime.datetime(2024, 3, 3, 15, 39, 26, 929533), 'status': 'draft', 'type': 'document', 'title': 'Ije: The Journey', 'owner_id': 1, 'featured_image_id': None, 'description': 'When her sister is accused of multiple murders, a Nigerian woman travels to Los Angeles to uncover the truth and fight for her sibling’s freedom.', 'content': '', 'course_id': None, 'rating_avg': 1.0, 'rating_count': 1}, {'_state': <django.db.models.base.ModelState object at 0x000001B380528160>, 'id': 1481, 'created_at': datetime.datetime(2024, 3, 3, 15, 39, 26, 929533), 'updated_at': datetime.datetime(2024, 3, 3, 15, 39, 26, 929533), 'status': 'draft', 'type': 'document', 'title': 'Still Game', 'owner_id': 1, 'featured_image_id': None, 'description': 'Scottish pensioners Jack and Victor make the most of their golden years, getting themselves into all kinds of scrapes in their Glasgow suburb.', 'content': '', 'course_id': None, 'rating_avg': 1.0, 'rating_count': 1}, {'_state': <django.db.models.base.ModelState object at 0x000001B3805281C0>, 'id': 1666, 'created_at': datetime.datetime(2024, 3, 3, 15, 39, 26, 929533), 'updated_at': datetime.datetime(2024, 3, 3, 15, 39, 26, 929533), 'status': 'draft', 'type': 'document', 'title': '40 Sticks', 'owner_id': 1, 'featured_image_id': None, 'description': 'When their prison bus crashes in a forest on a rainy night, a group of criminals finds themselves battling wild animals and a mysterious killer.', 'content': '', 'course_id': None, 'rating_avg': 1.0, 'rating_count': 1}, {'_state': <django.db.models.base.ModelState object at 0x000001B380528220>, 'id': 2127, 'created_at': datetime.datetime(2024, 3, 3, 15, 39, 26, 943576), 'updated_at': datetime.datetime(2024, 3, 3, 15, 39, 26, 943576), 'status': 'draft', 'type': 'document', 'title': \"What's Your Raashee?\", 'owner_id': 1, 'featured_image_id': None, 'description': 'To protect his family from ruin, Yogesh must marry his dream girl in only ten days, so he rushes into dating women with different astrological signs.', 'content': '', 'course_id': None, 'rating_avg': 1.0, 'rating_count': 1}, {'_state': <django.db.models.base.ModelState object at 0x000001B380528280>, 'id': 2263, 'created_at': datetime.datetime(2024, 3, 3, 15, 39, 26, 943576), 'updated_at': datetime.datetime(2024, 3, 3, 15, 39, 26, 943576), 'status': 'draft', 'type': 'document', 'title': 'A Kid from Coney Island', 'owner_id': 1, 'featured_image_id': None, 'description': \"From gifted athlete to professional NBA hooper, Coney Island's Stephon Marbury navigates the pressures, pitfalls and peaks of his basketball journey.\", 'content': '', 'course_id': None, 'rating_avg': 1.0, 'rating_count': 1}, {'_state': <django.db.models.base.ModelState object at 0x000001B3805282E0>, 'id': 2877, 'created_at': datetime.datetime(2024, 3, 3, 15, 39, 26, 943576), 'updated_at': datetime.datetime(2024, 3, 3, 15, 39, 26, 943576), 'status': 'draft', 'type': 'document', 'title': 'Pokémon: Mewtwo Strikes Back - Evolution', 'owner_id': 1, 'featured_image_id': None, 'description': 'After accepting an invitation from a mysterious trainer, Ash, Misty and Brock meet Mewtwo, an artificially created Pokémon who wants to do battle.', 'content': '', 'course_id': None, 'rating_avg': 1.0, 'rating_count': 1}, {'_state': <django.db.models.base.ModelState object at 0x000001B380528340>, 'id': 3047, 'created_at': datetime.datetime(2024, 3, 3, 15, 39, 26, 943576), 'updated_at': datetime.datetime(2024, 3, 3, 15, 39, 26, 943576), 'status': 'draft', 'type': 'document', 'title': 'All the Freckles in the World', 'owner_id': 1, 'featured_image_id': None, 'description': 'Thirteen-year-old José Miguel is immune to 1994 World Cup fever until he realizes soccer is the only way to win the heart of his crush.', 'content': '', 'course_id': None, 'rating_avg': 1.0, 'rating_count': 1}, {'_state': <django.db.models.base.ModelState object at 0x000001B3805283A0>, 'id': 3204, 'created_at': datetime.datetime(2024, 3, 3, 15, 39, 26, 943576), 'updated_at': datetime.datetime(2024, 3, 3, 15, 39, 26, 943576), 'status': 'draft', 'type': 'document', 'title': 'Why Me?', 'owner_id': 1, 'featured_image_id': None, 'description': 'A young prosecutor is assigned a career-making case involving a colleague but soon starts to question the motivations behind the charges.', 'content': '', 'course_id': None, 'rating_avg': 1.0, 'rating_count': 1}, {'_state': <django.db.models.base.ModelState object at 0x000001B380528400>, 'id': 3414, 'created_at': datetime.datetime(2024, 3, 3, 15, 39, 26, 943576), 'updated_at': datetime.datetime(2024, 3, 3, 15, 39, 26, 943576), 'status': 'draft', 'type': 'document', 'title': 'Verses of Love 2', 'owner_id': 1, 'featured_image_id': None, 'description': 'Now a lecturer in Edinburgh, Fahri tries to begin a new chapter as the love of his life, Aisha, volunteers in the Gaza Strip. Have they moved on?', 'content': '', 'course_id': None, 'rating_avg': 1.0, 'rating_count': 1}, {'_state': <django.db.models.base.ModelState object at 0x000001B380528460>, 'id': 4786, 'created_at': datetime.datetime(2024, 3, 3, 15, 39, 26, 945295), 'updated_at': datetime.datetime(2024, 3, 3, 15, 39, 26, 945295), 'status': 'draft', 'type': 'document', 'title': 'Sommore: Chandelier Status', 'owner_id': 1, 'featured_image_id': None, 'description': 'Luminous funnywoman Sommore wows Miami with her unique take on body modification, Internet sex, the world of celebrities and more.', 'content': '', 'course_id': None, 'rating_avg': 1.0, 'rating_count': 1}, {'_state': <django.db.models.base.ModelState object at 0x000001B3805284C0>, 'id': 6074, 'created_at': datetime.datetime(2024, 3, 3, 15, 39, 26, 945295), 'updated_at': datetime.datetime(2024, 3, 3, 15, 39, 26, 945295), 'status': 'draft', 'type': 'document', 'title': 'Aarakshan', 'owner_id': 1, 'featured_image_id': None, 'description': \"The decision by India's supreme court to establish caste-based reservations for jobs in education causes conflict between a teacher and his mentor.\", 'content': '', 'course_id': None, 'rating_avg': 1.0, 'rating_count': 1}, {'_state': <django.db.models.base.ModelState object at 0x000001B380528520>, 'id': 6307, 'created_at': datetime.datetime(2024, 3, 3, 15, 39, 26, 945295), 'updated_at': datetime.datetime(2024, 3, 3, 15, 39, 26, 945295), 'status': 'draft', 'type': 'document', 'title': 'Big Kill', 'owner_id': 1, 'featured_image_id': None, 'description': 'A tenderfoot and two gamblers seeking their fortunes in a boom town instead find themselves defending it from a gunslinging preacher and his gang.', 'content': '', 'course_id': None, 'rating_avg': 1.0, 'rating_count': 1}, {'_state': <django.db.models.base.ModelState object at 0x000001B380528580>, 'id': 7522, 'created_at': datetime.datetime(2024, 3, 3, 15, 39, 26, 945295), 'updated_at': datetime.datetime(2024, 3, 3, 15, 39, 26, 945295), 'status': 'draft', 'type': 'document', 'title': 'Mr. Young', 'owner_id': 1, 'featured_image_id': None, 'description': 'After Adam graduates from college at age 14, he heads back to high school to teach science, where his crush and his best friends are his students!', 'content': '', 'course_id': None, 'rating_avg': 1.0, 'rating_count': 1}, {'_state': <django.db.models.base.ModelState object at 0x000001B3805285E0>, 'id': 7584, 'created_at': datetime.datetime(2024, 3, 3, 15, 39, 26, 945295), 'updated_at': datetime.datetime(2024, 3, 3, 15, 39, 26, 945295), 'status': 'draft', 'type': 'document', 'title': 'Night Comes On', 'owner_id': 1, 'featured_image_id': None, 'description': \"A teen fresh out of juvenile detention tries to rescue her sister from foster care in order to exact revenge on their father for their mother's murder.\", 'content': '', 'course_id': None, 'rating_avg': 1.0, 'rating_count': 1}, {'_state': <django.db.models.base.ModelState object at 0x000001B380528640>, 'id': 7815, 'created_at': datetime.datetime(2024, 3, 3, 15, 39, 26, 945295), 'updated_at': datetime.datetime(2024, 3, 3, 15, 39, 26, 945295), 'status': 'draft', 'type': 'document', 'title': \"R.L. Stine's Mostly Ghostly\", 'owner_id': 1, 'featured_image_id': None, 'description': 'After discovering a pair of young ghosts, a nebbish 11-year-old agrees to help the sibling spirits solve the mystery surrounding their demise.', 'content': '', 'course_id': None, 'rating_avg': 1.0, 'rating_count': 1}]\n",
      "Pred 198869 2 3.4943704188238147\n",
      "Pred 194261 2 3.685819411170817\n",
      "Pred 193010 2 3.7473350736677267\n",
      "Pred 192128 2 3.914965934261741\n",
      "Pred 192004 2 3.683086166104873\n",
      "Pred 190369 2 3.830030907313344\n",
      "Pred 189657 2 4.027644545159038\n",
      "Pred 185814 2 3.4042769098555117\n",
      "Pred 184276 2 3.3190471755619053\n",
      "Pred 182219 2 3.958314352898723\n",
      "Pred 198869 37 3.234849924645887\n",
      "Pred 194261 37 3.48092020855523\n",
      "Pred 193010 37 3.525099324320614\n",
      "Pred 192128 37 3.380864218172669\n",
      "Pred 192004 37 3.32810212090419\n",
      "Pred 190369 37 3.42309891021418\n",
      "Pred 189657 37 3.526369933845735\n",
      "Pred 185814 37 3.216025312397659\n",
      "Pred 184276 37 3.056397624080054\n",
      "Pred 182219 37 3.5117242947512577\n",
      "Pred 198869 417 3.361659822194424\n",
      "Pred 194261 417 3.4131731025569785\n",
      "Pred 193010 417 3.378746422214408\n",
      "Pred 192128 417 3.3988834660286926\n",
      "Pred 192004 417 3.2811763843576687\n",
      "Pred 190369 417 3.3817867558856682\n",
      "Pred 189657 417 3.49568322438298\n",
      "Pred 185814 417 3.158150823633078\n",
      "Pred 184276 417 3.142070275704123\n",
      "Pred 182219 417 3.613744848677391\n",
      "Pred 198869 718 3.383808648632575\n",
      "Pred 194261 718 3.293836241249959\n",
      "Pred 193010 718 3.502630660604288\n",
      "Pred 192128 718 3.583160972243076\n",
      "Pred 192004 718 3.3812516035657056\n",
      "Pred 190369 718 3.354502683435146\n",
      "Pred 189657 718 3.4837593669801317\n",
      "Pred 185814 718 3.0706015412872456\n",
      "Pred 184276 718 3.141485570950394\n",
      "Pred 182219 718 3.4383013568556695\n",
      "Pred 198869 756 3.2076662491851464\n",
      "Pred 194261 756 3.3573903429138987\n",
      "Pred 193010 756 3.4580083567006796\n",
      "Pred 192128 756 3.4216578693483894\n",
      "Pred 192004 756 3.3707442260619316\n",
      "Pred 190369 756 3.4755331668067826\n",
      "Pred 189657 756 3.333348939404374\n",
      "Pred 185814 756 3.184628458341321\n",
      "Pred 184276 756 3.156639601752316\n",
      "Pred 182219 756 3.273943762684687\n"
     ]
    }
   ],
   "source": [
    "def batch_user_predictions(start_page=0, offset=250):\n",
    "    ret, model = load_model()\n",
    "    if ret:\n",
    "        document_ids = Document.objects.order_by('-rating_avg').values_list(\n",
    "            'id', flat=True)[start_page:start_page+offset]  # implement popular\n",
    "        user_ids = User.objects.order_by('-id').values_list('id', flat=True)[0:10]  # dilter receny\n",
    "        new_suggestions_data = []\n",
    "        print(user_ids, document_ids, [i.__dict__ for i in Document.objects.order_by('-rating_avg')])\n",
    "        for doc_id in document_ids:\n",
    "            for user_id in user_ids:\n",
    "                pred = model.predict(uid=user_id, iid=doc_id).est\n",
    "                data = {\n",
    "                    'user_id': user_id,\n",
    "                    'document_id': doc_id,\n",
    "                    'rating_value': pred,\n",
    "                    'train_type': TrainType.COLLABORATIVE,\n",
    "                }\n",
    "                new_suggestions_data.append(\n",
    "                    Suggestion(data)\n",
    "                )\n",
    "                print(\"Pred\",user_id, doc_id, pred)\n",
    "batch_user_predictions(0, 5)"
   ]
  },
  {
   "cell_type": "code",
   "execution_count": null,
   "id": "7a86b392-78e1-43e6-8b2b-5ab8aeaf80ee",
   "metadata": {},
   "outputs": [],
   "source": []
  }
 ],
 "metadata": {
  "kernelspec": {
   "display_name": "Python 3 (ipykernel)",
   "language": "python",
   "name": "python3"
  },
  "language_info": {
   "codemirror_mode": {
    "name": "ipython",
    "version": 3
   },
   "file_extension": ".py",
   "mimetype": "text/x-python",
   "name": "python",
   "nbconvert_exporter": "python",
   "pygments_lexer": "ipython3",
   "version": "3.8.10"
  }
 },
 "nbformat": 4,
 "nbformat_minor": 5
}
