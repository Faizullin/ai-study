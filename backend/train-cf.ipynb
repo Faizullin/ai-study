{
 "cells": [
  {
   "cell_type": "code",
   "execution_count": 1,
   "id": "9de95fb0-5b66-4b37-905f-20fbbf1ebccc",
   "metadata": {},
   "outputs": [],
   "source": [
    "import numpy as np\n",
    "import pandas as pd\n",
    "from sklearn.feature_extraction.text import TfidfVectorizer\n",
    "from sklearn.metrics.pairwise import linear_kernel\n",
    "import os\n",
    "# import seaborn as sns\n",
    "# import matplotlib.pyplot as plt\n",
    "\n",
    "from surprise import Dataset, Reader, accuracy\n",
    "from surprise import SVD, NMF\n",
    "from surprise.model_selection import cross_validate, train_test_split, GridSearchCV\n",
    "\n",
    "# import functions as f"
   ]
  },
  {
   "cell_type": "code",
   "execution_count": null,
   "id": "5f63a27e-dafb-40b8-9e8e-f3eaf9e1662e",
   "metadata": {},
   "outputs": [],
   "source": []
  },
  {
   "cell_type": "code",
   "execution_count": null,
   "id": "f6cd3532-6bc0-4fe9-bea0-b1d29737ae73",
   "metadata": {},
   "outputs": [],
   "source": []
  },
  {
   "cell_type": "code",
   "execution_count": 2,
   "id": "5a8d1229-e959-4cfb-8c2f-10b22aaed210",
   "metadata": {},
   "outputs": [
    {
     "data": {
      "text/plain": [
       "'C:\\\\Users\\\\osman\\\\Desktop\\\\OSMAN_PROJECTS\\\\ai-study\\\\backend\\\\seeding\\\\ratigns_seed.csv'"
      ]
     },
     "execution_count": 2,
     "metadata": {},
     "output_type": "execute_result"
    }
   ],
   "source": [
    "input_path =  os.path.join(os.path.join(os. getcwd(),'seeding'),'ratigns_seed.csv')\n",
    "input_path"
   ]
  },
  {
   "cell_type": "code",
   "execution_count": 3,
   "id": "f2cc1003-fffe-4380-82ac-a2996d8c3de6",
   "metadata": {
    "scrolled": true
   },
   "outputs": [
    {
     "data": {
      "text/html": [
       "<div>\n",
       "<style scoped>\n",
       "    .dataframe tbody tr th:only-of-type {\n",
       "        vertical-align: middle;\n",
       "    }\n",
       "\n",
       "    .dataframe tbody tr th {\n",
       "        vertical-align: top;\n",
       "    }\n",
       "\n",
       "    .dataframe thead th {\n",
       "        text-align: right;\n",
       "    }\n",
       "</style>\n",
       "<table border=\"1\" class=\"dataframe\">\n",
       "  <thead>\n",
       "    <tr style=\"text-align: right;\">\n",
       "      <th></th>\n",
       "      <th>user_id</th>\n",
       "      <th>document_id</th>\n",
       "      <th>rating</th>\n",
       "    </tr>\n",
       "  </thead>\n",
       "  <tbody>\n",
       "    <tr>\n",
       "      <th>0</th>\n",
       "      <td>0</td>\n",
       "      <td>7171</td>\n",
       "      <td>5</td>\n",
       "    </tr>\n",
       "    <tr>\n",
       "      <th>1</th>\n",
       "      <td>0</td>\n",
       "      <td>8637</td>\n",
       "      <td>4</td>\n",
       "    </tr>\n",
       "    <tr>\n",
       "      <th>2</th>\n",
       "      <td>0</td>\n",
       "      <td>21966</td>\n",
       "      <td>4</td>\n",
       "    </tr>\n",
       "    <tr>\n",
       "      <th>3</th>\n",
       "      <td>0</td>\n",
       "      <td>35821</td>\n",
       "      <td>5</td>\n",
       "    </tr>\n",
       "    <tr>\n",
       "      <th>4</th>\n",
       "      <td>0</td>\n",
       "      <td>82446</td>\n",
       "      <td>5</td>\n",
       "    </tr>\n",
       "    <tr>\n",
       "      <th>...</th>\n",
       "      <td>...</td>\n",
       "      <td>...</td>\n",
       "      <td>...</td>\n",
       "    </tr>\n",
       "    <tr>\n",
       "      <th>1999995</th>\n",
       "      <td>199999</td>\n",
       "      <td>75840</td>\n",
       "      <td>2</td>\n",
       "    </tr>\n",
       "    <tr>\n",
       "      <th>1999996</th>\n",
       "      <td>199999</td>\n",
       "      <td>85921</td>\n",
       "      <td>1</td>\n",
       "    </tr>\n",
       "    <tr>\n",
       "      <th>1999997</th>\n",
       "      <td>199999</td>\n",
       "      <td>116763</td>\n",
       "      <td>1</td>\n",
       "    </tr>\n",
       "    <tr>\n",
       "      <th>1999998</th>\n",
       "      <td>199999</td>\n",
       "      <td>128758</td>\n",
       "      <td>1</td>\n",
       "    </tr>\n",
       "    <tr>\n",
       "      <th>1999999</th>\n",
       "      <td>199999</td>\n",
       "      <td>129321</td>\n",
       "      <td>1</td>\n",
       "    </tr>\n",
       "  </tbody>\n",
       "</table>\n",
       "<p>2000000 rows × 3 columns</p>\n",
       "</div>"
      ],
      "text/plain": [
       "         user_id  document_id  rating\n",
       "0              0         7171       5\n",
       "1              0         8637       4\n",
       "2              0        21966       4\n",
       "3              0        35821       5\n",
       "4              0        82446       5\n",
       "...          ...          ...     ...\n",
       "1999995   199999        75840       2\n",
       "1999996   199999        85921       1\n",
       "1999997   199999       116763       1\n",
       "1999998   199999       128758       1\n",
       "1999999   199999       129321       1\n",
       "\n",
       "[2000000 rows x 3 columns]"
      ]
     },
     "execution_count": 3,
     "metadata": {},
     "output_type": "execute_result"
    }
   ],
   "source": [
    "df = pd.read_csv(input_path)\n",
    "df['rating'].dropna(inplace=True)\n",
    "df"
   ]
  },
  {
   "cell_type": "code",
   "execution_count": 4,
   "id": "bb311345-d25e-4ca8-937c-9b6723017145",
   "metadata": {},
   "outputs": [
    {
     "data": {
      "text/plain": [
       "<surprise.dataset.DatasetAutoFolds at 0x1aacd955af0>"
      ]
     },
     "execution_count": 4,
     "metadata": {},
     "output_type": "execute_result"
    }
   ],
   "source": [
    "reader = Reader(rating_scale=(1, 5))\n",
    "data = Dataset.load_from_df(df[[\"user_id\", \"document_id\", \"rating\"]], reader)\n",
    "data"
   ]
  },
  {
   "cell_type": "code",
   "execution_count": 5,
   "id": "4fb10661-639d-4415-b332-8f5ffee3532d",
   "metadata": {},
   "outputs": [],
   "source": [
    "algo = SVD(verbose=True,n_epochs=20)\n"
   ]
  },
  {
   "cell_type": "code",
   "execution_count": 6,
   "id": "5766adad-6895-42ad-a064-86603a0f21cf",
   "metadata": {},
   "outputs": [
    {
     "name": "stdout",
     "output_type": "stream",
     "text": [
      "Processing epoch 0\n",
      "Processing epoch 1\n",
      "Processing epoch 2\n",
      "Processing epoch 3\n",
      "Processing epoch 4\n",
      "Processing epoch 5\n",
      "Processing epoch 6\n",
      "Processing epoch 7\n",
      "Processing epoch 8\n",
      "Processing epoch 9\n",
      "Processing epoch 10\n",
      "Processing epoch 11\n",
      "Processing epoch 12\n",
      "Processing epoch 13\n",
      "Processing epoch 14\n",
      "Processing epoch 15\n",
      "Processing epoch 16\n",
      "Processing epoch 17\n",
      "Processing epoch 18\n",
      "Processing epoch 19\n",
      "Processing epoch 0\n",
      "Processing epoch 1\n",
      "Processing epoch 2\n",
      "Processing epoch 3\n",
      "Processing epoch 4\n",
      "Processing epoch 5\n",
      "Processing epoch 6\n",
      "Processing epoch 7\n",
      "Processing epoch 8\n",
      "Processing epoch 9\n",
      "Processing epoch 10\n",
      "Processing epoch 11\n",
      "Processing epoch 12\n",
      "Processing epoch 13\n",
      "Processing epoch 14\n",
      "Processing epoch 15\n",
      "Processing epoch 16\n",
      "Processing epoch 17\n",
      "Processing epoch 18\n",
      "Processing epoch 19\n",
      "Processing epoch 0\n",
      "Processing epoch 1\n",
      "Processing epoch 2\n",
      "Processing epoch 3\n",
      "Processing epoch 4\n",
      "Processing epoch 5\n",
      "Processing epoch 6\n",
      "Processing epoch 7\n",
      "Processing epoch 8\n",
      "Processing epoch 9\n",
      "Processing epoch 10\n",
      "Processing epoch 11\n",
      "Processing epoch 12\n",
      "Processing epoch 13\n",
      "Processing epoch 14\n",
      "Processing epoch 15\n",
      "Processing epoch 16\n",
      "Processing epoch 17\n",
      "Processing epoch 18\n",
      "Processing epoch 19\n",
      "Processing epoch 0\n",
      "Processing epoch 1\n",
      "Processing epoch 2\n",
      "Processing epoch 3\n",
      "Processing epoch 4\n",
      "Processing epoch 5\n",
      "Processing epoch 6\n",
      "Processing epoch 7\n",
      "Processing epoch 8\n",
      "Processing epoch 9\n",
      "Processing epoch 10\n",
      "Processing epoch 11\n",
      "Processing epoch 12\n",
      "Processing epoch 13\n",
      "Processing epoch 14\n",
      "Processing epoch 15\n",
      "Processing epoch 16\n",
      "Processing epoch 17\n",
      "Processing epoch 18\n",
      "Processing epoch 19\n",
      "Evaluating RMSE, MAE of algorithm SVD on 4 split(s).\n",
      "\n",
      "                  Fold 1  Fold 2  Fold 3  Fold 4  Mean    Std     \n",
      "RMSE (testset)    1.3771  1.3756  1.3761  1.3749  1.3759  0.0008  \n",
      "MAE (testset)     1.1678  1.1671  1.1675  1.1655  1.1670  0.0009  \n",
      "Fit time          20.72   21.80   21.65   22.04   21.55   0.50    \n",
      "Test time         4.09    4.07    3.66    4.33    4.04    0.24    \n"
     ]
    },
    {
     "data": {
      "text/plain": [
       "{'test_rmse': array([1.37712771, 1.37561707, 1.37613509, 1.37486577]),\n",
       " 'test_mae': array([1.16781484, 1.16711075, 1.16751238, 1.16554643]),\n",
       " 'fit_time': (20.72056245803833,\n",
       "  21.799598693847656,\n",
       "  21.652509927749634,\n",
       "  22.04308295249939),\n",
       " 'test_time': (4.085424184799194,\n",
       "  4.068852663040161,\n",
       "  3.6570639610290527,\n",
       "  4.33233642578125)}"
      ]
     },
     "execution_count": 6,
     "metadata": {},
     "output_type": "execute_result"
    }
   ],
   "source": [
    "cross_validate(algo, data, measures = ['RMSE','MAE'], cv=4,verbose=True)\n"
   ]
  },
  {
   "cell_type": "code",
   "execution_count": 7,
   "id": "c9c2cfb7-9b79-4811-81c8-fc0ec5cc0af2",
   "metadata": {},
   "outputs": [
    {
     "name": "stdout",
     "output_type": "stream",
     "text": [
      "Processing epoch 0\n",
      "Processing epoch 1\n",
      "Processing epoch 2\n",
      "Processing epoch 3\n",
      "Processing epoch 4\n",
      "Processing epoch 5\n",
      "Processing epoch 6\n",
      "Processing epoch 7\n",
      "Processing epoch 8\n",
      "Processing epoch 9\n",
      "Processing epoch 10\n",
      "Processing epoch 11\n",
      "Processing epoch 12\n",
      "Processing epoch 13\n",
      "Processing epoch 14\n",
      "Processing epoch 15\n",
      "Processing epoch 16\n",
      "Processing epoch 17\n",
      "Processing epoch 18\n",
      "Processing epoch 19\n"
     ]
    },
    {
     "data": {
      "text/plain": [
       "<surprise.prediction_algorithms.matrix_factorization.SVD at 0x1aa8000eca0>"
      ]
     },
     "execution_count": 7,
     "metadata": {},
     "output_type": "execute_result"
    }
   ],
   "source": [
    "trainset = data.build_full_trainset()\n",
    "algo.fit(trainset)"
   ]
  },
  {
   "cell_type": "code",
   "execution_count": 10,
   "id": "4ccbd654-2da4-44e7-bcef-5bd07b6e69f7",
   "metadata": {},
   "outputs": [],
   "source": [
    "# predictions = algo.test(trainset.build_anti_testset(), verbose=True) # predictions for each of the users.\n",
    "# predictions # predictions from site\n",
    "\n",
    "testset = trainset.build_testset()\n",
    "predictions = algo.test(testset)\n"
   ]
  },
  {
   "cell_type": "code",
   "execution_count": 11,
   "id": "329b0bf0-9a16-4e92-8663-0ce1162d7b31",
   "metadata": {},
   "outputs": [
    {
     "name": "stdout",
     "output_type": "stream",
     "text": [
      "RMSE: 0.8223\n",
      "MAE:  0.6690\n"
     ]
    },
    {
     "data": {
      "text/plain": [
       "(0.8223154189991111, 0.6690444911043861)"
      ]
     },
     "execution_count": 11,
     "metadata": {},
     "output_type": "execute_result"
    }
   ],
   "source": [
    "accuracy_rmse = accuracy.rmse(predictions)\n",
    "accuracy_mae = accuracy.mae(predictions)\n",
    "(accuracy_rmse, accuracy_mae)"
   ]
  },
  {
   "cell_type": "code",
   "execution_count": 29,
   "id": "78663088-11d0-4771-99bc-9d7b5e9a621b",
   "metadata": {},
   "outputs": [
    {
     "data": {
      "text/plain": [
       "(84389, 87488, 1.693347348344911)"
      ]
     },
     "execution_count": 29,
     "metadata": {},
     "output_type": "execute_result"
    }
   ],
   "source": [
    "sample_user_id, smaple_movie_id = (lambda x: (x['user_id'].values[0],x['document_id'].values[0]))(df.sample(n=1))\n",
    "sample_user_id, smaple_movie_id, algo.predict(uid=sample_user_id, iid=smaple_movie_id).est"
   ]
  },
  {
   "cell_type": "code",
   "execution_count": 32,
   "id": "d2663b6c-73ad-43cd-b67a-8fbca443c77e",
   "metadata": {},
   "outputs": [],
   "source": [
    "import pickle\n",
    "algo_data = {\"model\":algo}\n",
    "model_output_path =  os.path.join(os.path.join(os. getcwd(),'seeding'),\"model.pkl\")\n",
    "with open(model_output_path,\"wb\") as f:\n",
    "    pickle.dump(algo_data,f)"
   ]
  },
  {
   "cell_type": "code",
   "execution_count": 34,
   "id": "e06e0571-ddc3-48b6-b21b-e04535c72bdb",
   "metadata": {},
   "outputs": [
    {
     "data": {
      "text/plain": [
       "1.693347348344911"
      ]
     },
     "execution_count": 34,
     "metadata": {},
     "output_type": "execute_result"
    }
   ],
   "source": [
    "with open(model_output_path,\"rb\") as f:\n",
    "    loaded_algo_data = pickle.load(f)\n",
    "    loaded_algo = loaded_algo_data.get('model')\n",
    "loaded_algo.predict(uid=sample_user_id, iid=smaple_movie_id).est"
   ]
  },
  {
   "cell_type": "code",
   "execution_count": null,
   "id": "51681c7a-8a71-4bfc-aac7-1820cab25bd3",
   "metadata": {},
   "outputs": [],
   "source": []
  }
 ],
 "metadata": {
  "kernelspec": {
   "display_name": "Python 3 (ipykernel)",
   "language": "python",
   "name": "python3"
  },
  "language_info": {
   "codemirror_mode": {
    "name": "ipython",
    "version": 3
   },
   "file_extension": ".py",
   "mimetype": "text/x-python",
   "name": "python",
   "nbconvert_exporter": "python",
   "pygments_lexer": "ipython3",
   "version": "3.8.10"
  }
 },
 "nbformat": 4,
 "nbformat_minor": 5
}
